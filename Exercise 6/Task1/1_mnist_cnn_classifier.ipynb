{
  "cells": [
    {
      "cell_type": "code",
      "execution_count": 1,
      "metadata": {
        "id": "ff665f48"
      },
      "outputs": [],
      "source": [
        "\n",
        "import torch\n",
        "import torch.nn as nn\n",
        "import torch.optim as optim\n",
        "import torchvision\n",
        "import torchvision.transforms as transforms\n",
        "import matplotlib.pyplot as plt\n",
        "import numpy as np\n"
      ],
      "id": "ff665f48"
    },
    {
      "cell_type": "code",
      "source": [
        "batch_size = 64\n",
        "learning_rate = 0.001\n",
        "num_epochs = 5\n",
        "\n",
        "# Download and prepare the MNIST dataset\n",
        "transform = transforms.Compose([transforms.ToTensor(), transforms.Normalize((0.5,), (0.5,))])\n",
        "\n",
        "train_dataset = torchvision.datasets.MNIST(root='./data', train=True, transform=transform, download=True)\n",
        "test_dataset = torchvision.datasets.MNIST(root='./data', train=False, transform=transform, download=True)\n",
        "\n",
        "train_loader = torch.utils.data.DataLoader(dataset=train_dataset, batch_size=batch_size, shuffle=True)\n",
        "test_loader = torch.utils.data.DataLoader(dataset=test_dataset, batch_size=batch_size, shuffle=False)\n"
      ],
      "metadata": {
        "id": "wNwhzYK-mMbW"
      },
      "id": "wNwhzYK-mMbW",
      "execution_count": 3,
      "outputs": []
    },
    {
      "cell_type": "code",
      "source": [
        "import torch\n",
        "import torch.nn as nn\n",
        "import torch.optim as optim\n",
        "from tqdm import tqdm  # Import tqdm for progress bar\n",
        "\n",
        "# Define the CNN architecture\n",
        "class CNN(nn.Module):\n",
        "    def __init__(self):\n",
        "        super(CNN, self).__init__()\n",
        "        self.conv1 = nn.Conv2d(in_channels=1, out_channels=32, kernel_size=3, stride=1, padding=1)\n",
        "        self.conv2 = nn.Conv2d(in_channels=32, out_channels=64, kernel_size=3, stride=1, padding=1)\n",
        "        self.pool = nn.MaxPool2d(kernel_size=2, stride=2, padding=0)\n",
        "        self.fc1 = nn.Linear(64 * 7 * 7, 128)\n",
        "        self.fc2 = nn.Linear(128, 10)\n",
        "\n",
        "    def forward(self, x):\n",
        "        x = self.pool(torch.relu(self.conv1(x)))\n",
        "        x = self.pool(torch.relu(self.conv2(x)))\n",
        "        x = x.view(-1, 64 * 7 * 7)\n",
        "        x = torch.relu(self.fc1(x))\n",
        "        x = self.fc2(x)\n",
        "        return x\n",
        "\n",
        "# Initialize the CNN model\n",
        "model = CNN()\n",
        "\n",
        "# Loss and optimizer\n",
        "criterion = nn.CrossEntropyLoss()\n",
        "optimizer = optim.Adam(model.parameters(), lr=0.001)\n",
        "\n",
        "# Training the CNN model with progress bar and accuracy\n",
        "num_epochs = 5\n",
        "\n",
        "for epoch in range(num_epochs):\n",
        "    # Initialize tqdm progress bar\n",
        "    progress_bar = tqdm(enumerate(train_loader), total=len(train_loader), desc=f\"Epoch {epoch+1}/{num_epochs}\")\n",
        "\n",
        "    # Variables to track accuracy\n",
        "    total_correct = 0\n",
        "    total_images = 0\n",
        "\n",
        "    for i, (images, labels) in progress_bar:\n",
        "        # Forward pass\n",
        "        outputs = model(images)\n",
        "        loss = criterion(outputs, labels)\n",
        "\n",
        "        # Backward pass and optimization\n",
        "        optimizer.zero_grad()\n",
        "        loss.backward()\n",
        "        optimizer.step()\n",
        "\n",
        "        # Calculate predictions and accuracy\n",
        "        _, predicted = torch.max(outputs.data, 1)\n",
        "        total_images += labels.size(0)\n",
        "        total_correct += (predicted == labels).sum().item()\n",
        "        accuracy = 100 * total_correct / total_images\n",
        "\n",
        "        # Update progress bar with loss and accuracy\n",
        "        progress_bar.set_postfix({\"Train_Loss\": loss.item(), \"Train_Accuracy\": f\"{accuracy:.2f}%\"})\n",
        "\n",
        "# Save the model checkpoint\n",
        "torch.save(model.state_dict(), 'mnist_cnn.pth')\n"
      ],
      "metadata": {
        "colab": {
          "base_uri": "https://localhost:8080/"
        },
        "id": "ifFYn7ZymX5H",
        "outputId": "92f8c411-7c9f-44bf-9011-6dd4bdce26c8"
      },
      "id": "ifFYn7ZymX5H",
      "execution_count": 7,
      "outputs": [
        {
          "output_type": "stream",
          "name": "stderr",
          "text": [
            "Epoch 1/5: 100%|██████████| 938/938 [01:39<00:00,  9.44it/s, Train_Loss=0.00616, Train_Accuracy=95.25%]\n",
            "Epoch 2/5: 100%|██████████| 938/938 [01:38<00:00,  9.51it/s, Train_Loss=0.0516, Train_Accuracy=98.49%]\n",
            "Epoch 3/5: 100%|██████████| 938/938 [01:37<00:00,  9.64it/s, Train_Loss=0.00411, Train_Accuracy=99.01%]\n",
            "Epoch 4/5: 100%|██████████| 938/938 [01:38<00:00,  9.52it/s, Train_Loss=0.0414, Train_Accuracy=99.27%]\n",
            "Epoch 5/5: 100%|██████████| 938/938 [01:37<00:00,  9.59it/s, Train_Loss=0.0189, Train_Accuracy=99.40%]\n"
          ]
        }
      ]
    },
    {
      "cell_type": "code",
      "source": [
        "import torch\n",
        "import matplotlib.pyplot as plt\n",
        "from tqdm import tqdm  # Import tqdm for progress bar\n",
        "\n",
        "\n",
        "# Initialize tqdm progress bar for testing\n",
        "with torch.no_grad():\n",
        "    progress_bar = tqdm(test_loader, desc=\"Testing Progress\")\n",
        "    for images, labels in progress_bar:\n",
        "        # Forward pass\n",
        "        outputs = model(images)\n",
        "        _, predicted = torch.max(outputs.data, 1)\n",
        "\n",
        "        # Accumulate total and correct predictions\n",
        "        total += labels.size(0)\n",
        "        correct += (predicted == labels).sum().item()\n",
        "\n",
        "        # Collect misclassified images and labels for visualization\n",
        "        for i in range(len(predicted)):\n",
        "            if predicted[i] != labels[i]:\n",
        "                misclassified_images.append(images[i].squeeze())\n",
        "                misclassified_labels.append((predicted[i].item(), labels[i].item()))\n",
        "\n",
        "# Calculate accuracy\n",
        "accuracy = 100 * correct / total\n",
        "print(f'\\nFinal Accuracy of the model on the 10000 test images: {accuracy:.2f}%')\n",
        "\n",
        "\n"
      ],
      "metadata": {
        "colab": {
          "base_uri": "https://localhost:8080/"
        },
        "id": "FiCaXot3m4bP",
        "outputId": "a49e7417-b902-403b-dba9-2d74336e27af"
      },
      "id": "FiCaXot3m4bP",
      "execution_count": 10,
      "outputs": [
        {
          "output_type": "stream",
          "name": "stderr",
          "text": [
            "Testing Progress: 100%|██████████| 157/157 [00:07<00:00, 20.87it/s]"
          ]
        },
        {
          "output_type": "stream",
          "name": "stdout",
          "text": [
            "\n",
            "Final Accuracy of the model on the 10000 test images: 99.03%\n"
          ]
        },
        {
          "output_type": "stream",
          "name": "stderr",
          "text": [
            "\n"
          ]
        }
      ]
    },
    {
      "cell_type": "code",
      "source": [
        "# Visualize misclassified examples\n",
        "def imshow(img):\n",
        "    img = img / 2 + 0.5\n",
        "    npimg = img.numpy()\n",
        "    plt.imshow(npimg, cmap='gray')\n",
        "    plt.show()\n",
        "\n",
        "print(\"\\nVisualizing some misclassified examples:\")\n",
        "for i in range(5):\n",
        "    print(f\"Predicted: {misclassified_labels[i][0]}, Actual: {misclassified_labels[i][1]}\")\n",
        "    imshow(misclassified_images[i])\n"
      ],
      "metadata": {
        "colab": {
          "base_uri": "https://localhost:8080/",
          "height": 1000
        },
        "id": "DaRP2rvLnOBg",
        "outputId": "a0aaca1c-daa9-4c12-faf6-4d3138fcc3e5"
      },
      "id": "DaRP2rvLnOBg",
      "execution_count": 9,
      "outputs": [
        {
          "output_type": "stream",
          "name": "stdout",
          "text": [
            "\n",
            "Visualizing some misclassified examples:\n",
            "Predicted: 8, Actual: 3\n"
          ]
        },
        {
          "output_type": "display_data",
          "data": {
            "text/plain": [
              "<Figure size 640x480 with 1 Axes>"
            ],
            "image/png": "[encoded data removed]"
          },
          "metadata": {}
        },
        {
          "output_type": "stream",
          "name": "stdout",
          "text": [
            "Predicted: 4, Actual: 9\n"
          ]
        },
        {
          "output_type": "display_data",
          "data": {
            "text/plain": [
              "<Figure size 640x480 with 1 Axes>"
            ],
            "image/png": "[encoded data removed]"
          },
          "metadata": {}
        },
        {
          "output_type": "stream",
          "name": "stdout",
          "text": [
            "Predicted: 3, Actual: 5\n"
          ]
        },
        {
          "output_type": "display_data",
          "data": {
            "text/plain": [
              "<Figure size 640x480 with 1 Axes>"
            ],
            "image/png": "[encoded data removed]"
          },
          "metadata": {}
        },
        {
          "output_type": "stream",
          "name": "stdout",
          "text": [
            "Predicted: 4, Actual: 9\n"
          ]
        },
        {
          "output_type": "display_data",
          "data": {
            "text/plain": [
              "<Figure size 640x480 with 1 Axes>"
            ],
            "image/png": "[encoded data removed]"
          },
          "metadata": {}
        },
        {
          "output_type": "stream",
          "name": "stdout",
          "text": [
            "Predicted: 5, Actual: 3\n"
          ]
        },
        {
          "output_type": "display_data",
          "data": {
            "text/plain": [
              "<Figure size 640x480 with 1 Axes>"
            ],
            "image/png": "[encoded data removed]"
          },
          "metadata": {}
        }
      ]
    },
    {
      "cell_type": "code",
      "source": [],
      "metadata": {
        "id": "cN2HDfETqr8l"
      },
      "id": "cN2HDfETqr8l",
      "execution_count": null,
      "outputs": []
    }
  ],
  "metadata": {
    "colab": {
      "provenance": []
    },
    "language_info": {
      "name": "python"
    },
    "kernelspec": {
      "name": "python3",
      "display_name": "Python 3"
    }
  },
  "nbformat": 4,
  "nbformat_minor": 5
}